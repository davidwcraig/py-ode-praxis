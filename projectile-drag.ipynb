{
 "cells": [
  {
   "cell_type": "code",
   "execution_count": 1,
   "metadata": {
    "collapsed": true
   },
   "outputs": [],
   "source": [
    "import numpy as np\n",
    "import matplotlib.pyplot as plt\n",
    "from scipy.integrate import odeint\n",
    "%matplotlib inline\n"
   ]
  },
  {
   "cell_type": "markdown",
   "metadata": {},
   "source": [
    "The DE system for a projectile with quadratic drag is:\n",
    "$$\n",
    "m\\dot{v}_x = -c \\sqrt{v_x^2 + v_y^2} v_x\n",
    "$$\n",
    "$$ \n",
    "m\\dot{v}_y = -mg - c \\sqrt{v_x^2 + v_y^2} v_y\n",
    "$$\n",
    "where $c = \\frac{\\sqrt{mg}}{v_\\text{ter}}$"
   ]
  },
  {
   "cell_type": "markdown",
   "metadata": {},
   "source": [
    "This can be rewritten \n",
    "$$ \\dot{v}_x = - \\frac {g}{ v_\\text{ter}^2} {v v_x} $$\n",
    "$$ \\dot{v}_y = - g - \\frac {g }{v_\\text{ter}^2} {v v_y} $$\n",
    "with the speed $v = \\sqrt{v_x^2 + v_y^2}$."
   ]
  },
  {
   "cell_type": "code",
   "execution_count": 6,
   "metadata": {
    "collapsed": true
   },
   "outputs": [],
   "source": [
    "def dsdt(s,t,vter=40, g = 9.8):\n",
    "    \"\"\"derivatives of projectile system with quadratic drag s = [x,y,vx,vy], vter = terminal speed.\"\"\"\n",
    "    x, y, vx, vy = s\n",
    "    v = np.sqrt(vx*vx + vy*vy)\n",
    "    vxdot = -g*v*vx/vter/vter\n",
    "    vydot = -g - g*v*vy/vter/vter\n",
    "    return [vx, vy, vxdot, vydot]"
   ]
  },
  {
   "cell_type": "code",
   "execution_count": 152,
   "metadata": {
    "collapsed": true
   },
   "outputs": [],
   "source": [
    "ttry = np.linspace(0, 50,200)\n",
    "angle = 85/57.29\n",
    "v0 = 158 # muzzle speed\n",
    "vtr = 286 # terminal v\n",
    "s0 = [0.0, 0.0, v0*np.cos(angle), v0*np.sin(angle)]"
   ]
  },
  {
   "cell_type": "code",
   "execution_count": 153,
   "metadata": {},
   "outputs": [],
   "source": [
    "sol = odeint(dsdt,s0,ttry, args=(vtr,10))\n"
   ]
  },
  {
   "cell_type": "code",
   "execution_count": 154,
   "metadata": {},
   "outputs": [],
   "source": [
    "x = sol[:,0]\n",
    "y = sol[:,1]"
   ]
  },
  {
   "cell_type": "code",
   "execution_count": 155,
   "metadata": {},
   "outputs": [
    {
     "data": {
      "image/png": "[encoded data removed]",
      "text/plain": [
       "<matplotlib.figure.Figure at 0x7fd2b4d38ac8>"
      ]
     },
     "metadata": {},
     "output_type": "display_data"
    }
   ],
   "source": [
    "plt.plot(x,y)\n",
    "plt.axis('scaled')\n",
    "plt.ylim(0,1.1*max(y))\n",
    "plt.grid()"
   ]
  },
  {
   "cell_type": "code",
   "execution_count": 164,
   "metadata": {},
   "outputs": [
    {
     "data": {
      "text/plain": [
       "29.522613065326631"
      ]
     },
     "execution_count": 164,
     "metadata": {},
     "output_type": "execute_result"
    }
   ],
   "source": [
    "(max(ttry[np.where(y>0)])+min(ttry[np.where(y<0)]))/2 # find time of flight"
   ]
  },
  {
   "cell_type": "code",
   "execution_count": null,
   "metadata": {
    "collapsed": true
   },
   "outputs": [],
   "source": []
  }
 ],
 "metadata": {
  "kernelspec": {
   "display_name": "Python 3",
   "language": "python",
   "name": "python3"
  },
  "language_info": {
   "codemirror_mode": {
    "name": "ipython",
    "version": 3
   },
   "file_extension": ".py",
   "mimetype": "text/x-python",
   "name": "python",
   "nbconvert_exporter": "python",
   "pygments_lexer": "ipython3",
   "version": "3.6.1"
  }
 },
 "nbformat": 4,
 "nbformat_minor": 2
}
